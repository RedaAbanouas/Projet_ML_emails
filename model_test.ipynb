{
 "cells": [
  {
   "cell_type": "code",
   "execution_count": 3,
   "metadata": {},
   "outputs": [],
   "source": [
    "import pandas as pd\n",
    "from nltk.corpus import stopwords\n",
    "import nltk\n",
    "import stanza\n",
    "from sklearn.feature_extraction.text import TfidfVectorizer\n",
    "\n",
    "from sklearn.naive_bayes import MultinomialNB\n",
    "from sklearn.svm import SVC\n",
    "from sklearn.metrics import accuracy_score, confusion_matrix\n",
    "from sklearn.model_selection import train_test_split\n",
    "\n",
    "import pickle"
   ]
  },
  {
   "cell_type": "code",
   "execution_count": 4,
   "metadata": {},
   "outputs": [],
   "source": [
    "bdd = pd.read_excel(\"Projet_spam.xlsx\")\n",
    "emails = bdd['email'].astype(str)"
   ]
  },
  {
   "cell_type": "code",
   "execution_count": 5,
   "metadata": {},
   "outputs": [
    {
     "name": "stderr",
     "output_type": "stream",
     "text": [
      "[nltk_data] Downloading package stopwords to\n",
      "[nltk_data]     C:\\Users\\pc\\AppData\\Roaming\\nltk_data...\n",
      "[nltk_data]   Package stopwords is already up-to-date!\n"
     ]
    }
   ],
   "source": [
    "nltk.download(\"stopwords\")\n",
    "stop_words_fr = stopwords.words('french')"
   ]
  },
  {
   "cell_type": "code",
   "execution_count": 6,
   "metadata": {},
   "outputs": [
    {
     "name": "stderr",
     "output_type": "stream",
     "text": [
      "2025-04-22 04:33:30 INFO: Checking for updates to resources.json in case models have been updated.  Note: this behavior can be turned off with download_method=None or download_method=DownloadMethod.REUSE_RESOURCES\n",
      "Downloading https://raw.githubusercontent.com/stanfordnlp/stanza-resources/main/resources_1.10.0.json: 426kB [00:00, 11.1MB/s]                    \n",
      "2025-04-22 04:33:30 INFO: Downloaded file to C:\\Users\\pc\\stanza_resources\\resources.json\n",
      "2025-04-22 04:33:31 INFO: Loading these models for language: fr (French):\n",
      "=================================\n",
      "| Processor | Package           |\n",
      "---------------------------------\n",
      "| tokenize  | combined          |\n",
      "| mwt       | combined          |\n",
      "| pos       | combined_charlm   |\n",
      "| lemma     | combined_nocharlm |\n",
      "=================================\n",
      "\n",
      "2025-04-22 04:33:31 INFO: Using device: cpu\n",
      "2025-04-22 04:33:31 INFO: Loading: tokenize\n",
      "2025-04-22 04:33:33 INFO: Loading: mwt\n",
      "2025-04-22 04:33:33 INFO: Loading: pos\n",
      "2025-04-22 04:33:35 INFO: Loading: lemma\n",
      "2025-04-22 04:33:36 INFO: Done loading processors!\n"
     ]
    }
   ],
   "source": [
    "nlp = stanza.Pipeline(\"fr\", processors=\"tokenize,mwt,pos,lemma\")\n",
    "def normalize(text):\n",
    "    doc = nlp(text)\n",
    "    lemmatized_filtered_text = [word.lemma.lower() for sentence in doc.sentences for word in sentence.words if word.lemma.lower() not in stop_words_fr]\n",
    "    return \" \".join(lemmatized_filtered_text)"
   ]
  },
  {
   "cell_type": "code",
   "execution_count": 29,
   "metadata": {},
   "outputs": [],
   "source": [
    "X = emails.apply(normalize)\n",
    "\n",
    "y = bdd['type'].map({'Spam': 1, 'Non spam': 0})\n",
    "X = X.to_frame()\n",
    "X['type'] = y\n",
    "\n",
    "X.to_excel('BDD_normalisé.xlsx', index = False, engine = 'openpyxl')"
   ]
  },
  {
   "cell_type": "code",
   "execution_count": 7,
   "metadata": {},
   "outputs": [],
   "source": [
    "bdd_norm = pd.read_excel(\"BDD_normalisé.xlsx\")"
   ]
  },
  {
   "cell_type": "code",
   "execution_count": 8,
   "metadata": {},
   "outputs": [
    {
     "name": "stdout",
     "output_type": "stream",
     "text": [
      "(201, 1349)\n"
     ]
    }
   ],
   "source": [
    "vectorizer = TfidfVectorizer(stop_words=stop_words_fr)\n",
    "vect = vectorizer.fit_transform(bdd_norm[\"email\"])\n",
    "print(vect.toarray().shape)"
   ]
  },
  {
   "cell_type": "code",
   "execution_count": 9,
   "metadata": {},
   "outputs": [
    {
     "name": "stdout",
     "output_type": "stream",
     "text": [
      "['bit', 'contacter', 'fichier', 'ly', 'équipe', 'bonus', 'récompense', 'abonnement', 'gratuit', 'urgent', 'lien', 'virus', 'information', 'ici', 'cliquer', 'télécharger', 'cadeau', 'profiter', 'ouvrir', 'joindre', 'récupérer', 'sécurité', 'protéger', 'maintenant', 'prix', 'bancaire', 'suspendre', 'dernier', 'recevoir', 'exclusive', 'paiement', 'voici', 'seulement', 'limité', 'succés', 'compte', 'mise à jour', 'exceptionnel', 'offre', 'instantané', 'félicitation', 'gagner', 'immédiat', 'rapide', '!', 'appareil', 'éviter', 'spécial', 'argent', '€', '$', 'livraison', 'paypal', 'virement', 'verrouiller', 'sécuriser', 'vite', 'choc', 'vérifier', 'attention', 'obtenir', 'uniquement', 'smartphone', 'rater', 'tentative']\n"
     ]
    }
   ],
   "source": [
    "vars = ['bit', 'contacter', 'fichier', 'ly', 'équipe', 'bonus', 'récompense', 'abonnement', 'gratuit', 'urgent', 'lien', 'virus', 'information', 'ici', 'cliquer', 'télécharger', \n",
    "             'cadeau', 'profiter', 'ouvrir', 'joindre', 'récupérer', 'sécurité', 'protéger', 'maintenant', 'prix', 'bancaire', 'suspendre', \n",
    "             'dernier', 'recevoir', 'exclusive', 'paiement', 'voici', 'seulement', 'limité', 'succés', 'compte', 'mise à jour', 'exceptionnel',\n",
    "             'offre', 'instantané', 'félicitation', 'gagner', 'immédiat', 'rapide','!', 'appareil', 'éviter', 'spécial', 'argent', '€', '$', 'livraison',\n",
    "             'paypal', 'virement', 'verrouiller', 'sécuriser', 'vite', 'choc', 'vérifier', 'attention', 'obtenir', 'uniquement', 'smartphone', 'rater', 'tentative']\n",
    "\n",
    "vectorizer = TfidfVectorizer(stop_words=stop_words_fr, vocabulary=vars)\n",
    "vect = vectorizer.fit_transform(bdd_norm[\"email\"])\n",
    "a = vect.toarray()\n",
    "print(vars)"
   ]
  },
  {
   "cell_type": "code",
   "execution_count": 10,
   "metadata": {},
   "outputs": [
    {
     "name": "stdout",
     "output_type": "stream",
     "text": [
      "précision du modèle Naives Bayes : 78.05 %\n",
      "précision du modèle SVM : 82.93 %\n",
      "Matrice de confusion du modèle Naive Bayes :\n",
      " [[19  6]\n",
      " [ 3 13]]\n",
      "Matrice de confusion du modèle SVM :\n",
      " [[19  6]\n",
      " [ 1 15]]\n"
     ]
    }
   ],
   "source": [
    "X_train, X_test, y_train, y_test = train_test_split(vect, bdd_norm['type'], test_size = 0.2, random_state = 0)\n",
    "\n",
    "svm = SVC(kernel='poly')\n",
    "svm.fit(X_train, y_train)\n",
    "y_svm = svm.predict(X_test)\n",
    "\n",
    "nb = MultinomialNB()\n",
    "nb.fit(X_train, y_train)\n",
    "y_nb = nb.predict(X_test)\n",
    "\n",
    "acc_svm = accuracy_score(y_test, y_svm)\n",
    "acc_nb = accuracy_score(y_test, y_nb)\n",
    "print(f'précision du modèle Naives Bayes : {round(acc_nb * 100, 2)} %')\n",
    "print(f'précision du modèle SVM : {round(acc_svm * 100, 2)} %')\n",
    "cm_svm = confusion_matrix(y_test, y_svm, labels=[0, 1])\n",
    "cm_nb = confusion_matrix(y_test, y_nb, labels=[0, 1])\n",
    "print(f'Matrice de confusion du modèle Naive Bayes :\\n {cm_nb}')\n",
    "print(f'Matrice de confusion du modèle SVM :\\n {cm_svm}')"
   ]
  },
  {
   "cell_type": "code",
   "execution_count": 11,
   "metadata": {},
   "outputs": [],
   "source": [
    "def vectorize(text):\n",
    "    text = normalize(text)\n",
    "    vect_text = vectorizer.transform([text])\n",
    "    return vect_text\n"
   ]
  },
  {
   "cell_type": "code",
   "execution_count": 12,
   "metadata": {},
   "outputs": [],
   "source": [
    "with open('naivebayes.pkl', 'wb') as file:\n",
    "    pickle.dump(nb, file)\n",
    "with open(\"vectorizer.pkl\", \"wb\") as file:\n",
    "    pickle.dump((vectorizer), file)\n",
    "with open('svm.pkl', 'wb') as file:\n",
    "    pickle.dump(svm, file)"
   ]
  }
 ],
 "metadata": {
  "kernelspec": {
   "display_name": "env_virtuel",
   "language": "python",
   "name": "python3"
  },
  "language_info": {
   "codemirror_mode": {
    "name": "ipython",
    "version": 3
   },
   "file_extension": ".py",
   "mimetype": "text/x-python",
   "name": "python",
   "nbconvert_exporter": "python",
   "pygments_lexer": "ipython3",
   "version": "3.13.2"
  }
 },
 "nbformat": 4,
 "nbformat_minor": 2
}
