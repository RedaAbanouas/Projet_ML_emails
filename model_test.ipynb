{
 "cells": [
  {
   "cell_type": "code",
   "execution_count": 2,
   "metadata": {},
   "outputs": [],
   "source": [
    "import pandas as pd\n",
    "from nltk.corpus import stopwords\n",
    "import nltk\n",
    "import stanza\n",
    "from sklearn.feature_extraction.text import TfidfVectorizer\n",
    "from sklearn.feature_selection import SelectKBest, chi2\n",
    "\n",
    "from sklearn.naive_bayes import MultinomialNB\n",
    "from sklearn.metrics import accuracy_score, confusion_matrix\n",
    "from sklearn.model_selection import train_test_split\n",
    "\n",
    "import pickle"
   ]
  },
  {
   "cell_type": "code",
   "execution_count": 3,
   "metadata": {},
   "outputs": [],
   "source": [
    "bdd = pd.read_excel(\"Projet_spam.xlsx\")\n",
    "emails = bdd['email'].astype(str)"
   ]
  },
  {
   "cell_type": "code",
   "execution_count": 4,
   "metadata": {},
   "outputs": [
    {
     "name": "stderr",
     "output_type": "stream",
     "text": [
      "[nltk_data] Downloading package stopwords to\n",
      "[nltk_data]     C:\\Users\\pc\\AppData\\Roaming\\nltk_data...\n",
      "[nltk_data]   Package stopwords is already up-to-date!\n"
     ]
    }
   ],
   "source": [
    "nltk.download(\"stopwords\")\n",
    "stop_words_fr = stopwords.words('french')"
   ]
  },
  {
   "cell_type": "code",
   "execution_count": 5,
   "metadata": {},
   "outputs": [
    {
     "name": "stderr",
     "output_type": "stream",
     "text": [
      "2025-03-24 16:23:11 INFO: Checking for updates to resources.json in case models have been updated.  Note: this behavior can be turned off with download_method=None or download_method=DownloadMethod.REUSE_RESOURCES\n",
      "Downloading https://raw.githubusercontent.com/stanfordnlp/stanza-resources/main/resources_1.10.0.json: 424kB [00:00, 7.71MB/s]                    \n",
      "2025-03-24 16:23:11 INFO: Downloaded file to C:\\Users\\pc\\stanza_resources\\resources.json\n",
      "2025-03-24 16:23:12 INFO: Loading these models for language: fr (French):\n",
      "=================================\n",
      "| Processor | Package           |\n",
      "---------------------------------\n",
      "| tokenize  | combined          |\n",
      "| mwt       | combined          |\n",
      "| pos       | combined_charlm   |\n",
      "| lemma     | combined_nocharlm |\n",
      "=================================\n",
      "\n",
      "2025-03-24 16:23:12 INFO: Using device: cpu\n",
      "2025-03-24 16:23:12 INFO: Loading: tokenize\n",
      "2025-03-24 16:23:14 INFO: Loading: mwt\n",
      "2025-03-24 16:23:14 INFO: Loading: pos\n",
      "2025-03-24 16:23:16 INFO: Loading: lemma\n",
      "2025-03-24 16:23:17 INFO: Done loading processors!\n"
     ]
    }
   ],
   "source": [
    "nlp = stanza.Pipeline(\"fr\", processors=\"tokenize,mwt,pos,lemma\")\n",
    "def normalize(text):\n",
    "    doc = nlp(text)\n",
    "    lemmatized_filtered_text = [word.lemma.lower() for sentence in doc.sentences for word in sentence.words if word.lemma.lower() not in stop_words_fr]\n",
    "    return \" \".join(lemmatized_filtered_text)"
   ]
  },
  {
   "cell_type": "code",
   "execution_count": null,
   "metadata": {},
   "outputs": [],
   "source": [
    "X = emails.apply(normalize)\n",
    "\n",
    "y = bdd['type'].map({'Spam': 1, 'Non spam': 0})\n",
    "X = X.to_frame()\n",
    "X['type'] = y\n",
    "\n",
    "X.to_excel('BDD_normalisé.xlsx', index = False, engine = 'openpyxl')"
   ]
  },
  {
   "cell_type": "code",
   "execution_count": 15,
   "metadata": {},
   "outputs": [],
   "source": [
    "bdd_norm = pd.read_excel(\"BDD_normalisé.xlsx\")"
   ]
  },
  {
   "cell_type": "code",
   "execution_count": 16,
   "metadata": {},
   "outputs": [
    {
     "name": "stdout",
     "output_type": "stream",
     "text": [
      "(201, 1349)\n"
     ]
    }
   ],
   "source": [
    "vectorizer = TfidfVectorizer(stop_words=stop_words_fr)\n",
    "vect = vectorizer.fit_transform(bdd_norm[\"email\"])\n",
    "print(vect.toarray().shape)"
   ]
  },
  {
   "cell_type": "code",
   "execution_count": 17,
   "metadata": {},
   "outputs": [
    {
     "name": "stdout",
     "output_type": "stream",
     "text": [
      "(201, 50)\n",
      "['00', '10', '2025', '30', 'appareil', 'argent', 'attention', 'avril', 'bien', 'bit', 'bonjour', 'cadeau', 'cher', 'cliquer', 'concernant', 'consulter', 'contacter', 'cordialement', 'demande', 'donnée', 'détecter', 'entretien', 'fichier', 'gagner', 'https', 'hésiter', 'ici', 'immédiatement', 'joindre', 'livraison', 'ly', 'maintenant', 'mars', 'merci', 'monsieur', 'ouvrir', 'paris', 'prix', 'prévoir', 'question', 'réclamer', 'si', 'souhaiter', 'suspect', 'tenir', 'télécharger', 'université', 'urgent', 'équipe', 'éviter']\n"
     ]
    }
   ],
   "source": [
    "selector = SelectKBest(chi2, k=50)\n",
    "X_new = selector.fit_transform(vect, bdd['type'])\n",
    "print(X_new.toarray().shape)\n",
    "features = vectorizer.get_feature_names_out()\n",
    "indices = selector.get_support(indices=True)\n",
    "best_words = [features[i] for i in indices]\n",
    "print(best_words)"
   ]
  },
  {
   "cell_type": "code",
   "execution_count": 18,
   "metadata": {},
   "outputs": [
    {
     "name": "stdout",
     "output_type": "stream",
     "text": [
      "précision du modèle : 97.56 %\n"
     ]
    }
   ],
   "source": [
    "X_train, X_test, y_train, y_test = train_test_split(X_new, bdd['type'], test_size = 0.2, random_state = 0)\n",
    "\n",
    "model = MultinomialNB()\n",
    "model.fit(X_train, y_train)\n",
    "y_pred = model.predict(X_test)\n",
    "\n",
    "acc = accuracy_score(y_test, y_pred)\n",
    "print(f'précision du modèle : {round(acc * 100, 2)} %')"
   ]
  },
  {
   "cell_type": "code",
   "execution_count": 19,
   "metadata": {},
   "outputs": [
    {
     "name": "stdout",
     "output_type": "stream",
     "text": [
      "Spam\n"
     ]
    }
   ],
   "source": [
    "def vectorize(text):\n",
    "    text = normalize(text)\n",
    "    vect_text = vectorizer.transform([text])\n",
    "    vect_selector = selector.transform(vect_text)\n",
    "    return vect_selector\n",
    "text = \"gfht th rgfththhdry \"\n",
    "print(model.predict(vectorize(text))[0])"
   ]
  },
  {
   "cell_type": "code",
   "execution_count": 13,
   "metadata": {},
   "outputs": [],
   "source": [
    "with open('naivebayes.pkl', 'wb') as file:\n",
    "    pickle.dump(model, file)\n",
    "with open(\"vectorizer_selector.pkl\", \"wb\") as file:\n",
    "    pickle.dump((vectorizer, selector), file)"
   ]
  }
 ],
 "metadata": {
  "kernelspec": {
   "display_name": "env_virtuel",
   "language": "python",
   "name": "python3"
  },
  "language_info": {
   "codemirror_mode": {
    "name": "ipython",
    "version": 3
   },
   "file_extension": ".py",
   "mimetype": "text/x-python",
   "name": "python",
   "nbconvert_exporter": "python",
   "pygments_lexer": "ipython3",
   "version": "3.13.2"
  }
 },
 "nbformat": 4,
 "nbformat_minor": 2
}
