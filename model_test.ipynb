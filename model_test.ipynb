{
 "cells": [
  {
   "cell_type": "code",
   "execution_count": null,
   "metadata": {},
   "outputs": [],
   "source": [
    "# Etape 1 : Prétraitement des données ----------------------------------------------------------\n",
    "\n",
    "import pandas as pd\n",
    "from nltk.corpus import stopwords\n",
    "import nltk\n",
    "import stanza\n",
    "from sklearn.feature_extraction.text import TfidfVectorizer\n",
    "\n",
    "from sklearn.naive_bayes import MultinomialNB\n",
    "from sklearn.svm import SVC\n",
    "from sklearn.metrics import accuracy_score, confusion_matrix\n",
    "from sklearn.model_selection import train_test_split\n",
    "\n",
    "import pickle"
   ]
  },
  {
   "cell_type": "code",
   "execution_count": null,
   "metadata": {},
   "outputs": [],
   "source": [
    "bdd = pd.read_excel(\"Projet_spam.xlsx\")\n",
    "emails = bdd['email'].astype(str)"
   ]
  },
  {
   "cell_type": "code",
   "execution_count": null,
   "metadata": {},
   "outputs": [],
   "source": [
    "nltk.download(\"stopwords\")\n",
    "stop_words_fr = stopwords.words('french')"
   ]
  },
  {
   "cell_type": "code",
   "execution_count": null,
   "metadata": {},
   "outputs": [],
   "source": [
    "nlp = stanza.Pipeline(\"fr\", processors=\"tokenize,mwt,pos,lemma\")\n",
    "def normalize(text):\n",
    "    doc = nlp(text)\n",
    "    lemmatized_filtered_text = [word.lemma.lower() for sentence in doc.sentences for word in sentence.words if word.lemma.lower() not in stop_words_fr]\n",
    "    return \" \".join(lemmatized_filtered_text)"
   ]
  },
  {
   "cell_type": "code",
   "execution_count": null,
   "metadata": {},
   "outputs": [],
   "source": [
    "X = emails.apply(normalize)\n",
    "\n",
    "y = bdd['type'].map({'Spam': 1, 'Non spam': 0})\n",
    "X = X.to_frame()\n",
    "X['type'] = y\n",
    "\n",
    "X.to_excel('BDD_normalisé.xlsx', index = False, engine = 'openpyxl')"
   ]
  },
  {
   "cell_type": "code",
   "execution_count": null,
   "metadata": {},
   "outputs": [],
   "source": [
    "# Etape 2 : Création de modele --------------------------------------------------------\n",
    "\n",
    "bdd_norm = pd.read_excel(\"BDD_normalisé.xlsx\")"
   ]
  },
  {
   "cell_type": "code",
   "execution_count": null,
   "metadata": {},
   "outputs": [],
   "source": [
    "vars = ['bit', 'contacter', 'fichier', 'ly', 'équipe', 'bonus', 'récompense', 'abonnement', 'gratuit', 'urgent', 'lien', 'virus', 'information', 'ici', 'cliquer', 'télécharger', \n",
    "             'cadeau', 'profiter', 'ouvrir', 'joindre', 'récupérer', 'sécurité', 'protéger', 'maintenant', 'prix', 'bancaire', 'suspendre', \n",
    "             'dernier', 'recevoir', 'exclusive', 'paiement', 'voici', 'seulement', 'limité', 'succés', 'compte', 'mise à jour', 'exceptionnel',\n",
    "             'offre', 'instantané', 'félicitation', 'gagner', 'immédiat', 'rapide','!', 'appareil', 'éviter', 'spécial', 'argent', '€', '$', 'livraison',\n",
    "             'paypal', 'virement', 'verrouiller', 'sécuriser', 'vite', 'choc', 'vérifier', 'attention', 'obtenir', 'uniquement', 'smartphone', 'rater', 'tentative']\n",
    "\n",
    "vectorizer = TfidfVectorizer(stop_words=stop_words_fr, vocabulary=vars)\n",
    "vect = vectorizer.fit_transform(bdd_norm[\"email\"])\n",
    "a = vect.toarray()\n",
    "print(vars)"
   ]
  },
  {
   "cell_type": "code",
   "execution_count": null,
   "metadata": {},
   "outputs": [],
   "source": [
    "X_train, X_test, y_train, y_test = train_test_split(vect, bdd_norm['type'], test_size = 0.2, random_state = 0)\n",
    "\n",
    "svm = SVC(kernel='poly')\n",
    "svm.fit(X_train, y_train)\n",
    "y_svm = svm.predict(X_test)\n",
    "\n",
    "nb = MultinomialNB()\n",
    "nb.fit(X_train, y_train)\n",
    "y_nb = nb.predict(X_test)\n",
    "\n",
    "# Etape 3 : Evaluation et exportation des modèles ------------------------------------------------------------\n",
    "\n",
    "acc_svm = accuracy_score(y_test, y_svm)\n",
    "acc_nb = accuracy_score(y_test, y_nb)\n",
    "print(f'précision du modèle Naives Bayes : {round(acc_nb * 100, 2)} %')\n",
    "print(f'précision du modèle SVM : {round(acc_svm * 100, 2)} %')\n",
    "\n",
    "cm_svm = confusion_matrix(y_test, y_svm, labels=[1, 0])\n",
    "cm_nb = confusion_matrix(y_test, y_nb, labels=[1, 0])\n",
    "print(f'Matrice de confusion du modèle Naive Bayes :\\n {cm_nb}')\n",
    "print(f'Matrice de confusion du modèle SVM :\\n {cm_svm}')\n",
    "prc_svm = cm_svm[0][0] / (cm_svm[0][0] + cm_svm[1][0])\n",
    "prc_nb = cm_nb[0][0] / (cm_nb[0][0] + cm_nb[1][0])\n",
    "\n",
    "print(f'precision du modele SVM : {round(prc_svm*100, 2)} %')\n",
    "print(f'precision du modele Naives Bayes : {round(prc_nb*100, 2)} %')\n",
    "\n"
   ]
  },
  {
   "cell_type": "code",
   "execution_count": null,
   "metadata": {},
   "outputs": [],
   "source": [
    "def vectorize(text):\n",
    "    text = normalize(text)\n",
    "    vect_text = vectorizer.transform([text])\n",
    "    return vect_text\n"
   ]
  },
  {
   "cell_type": "code",
   "execution_count": null,
   "metadata": {},
   "outputs": [],
   "source": [
    "with open('naivebayes.pkl', 'wb') as file:\n",
    "    pickle.dump(nb, file)\n",
    "\n",
    "with open(\"vectorizer.pkl\", \"wb\") as file:\n",
    "    pickle.dump((vectorizer), file)\n",
    "    \n",
    "with open('svm.pkl', 'wb') as file:\n",
    "    pickle.dump(svm, file)"
   ]
  }
 ],
 "metadata": {
  "kernelspec": {
   "display_name": ".venv",
   "language": "python",
   "name": "python3"
  },
  "language_info": {
   "codemirror_mode": {
    "name": "ipython",
    "version": 3
   },
   "file_extension": ".py",
   "mimetype": "text/x-python",
   "name": "python",
   "nbconvert_exporter": "python",
   "pygments_lexer": "ipython3",
   "version": "3.13.2"
  }
 },
 "nbformat": 4,
 "nbformat_minor": 2
}
