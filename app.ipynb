{
 "cells": [
  {
   "cell_type": "code",
   "execution_count": 2,
   "id": "4af09203",
   "metadata": {},
   "outputs": [
    {
     "name": "stderr",
     "output_type": "stream",
     "text": [
      "[nltk_data] Downloading package stopwords to\n",
      "[nltk_data]     C:\\Users\\pc\\AppData\\Roaming\\nltk_data...\n",
      "[nltk_data]   Package stopwords is already up-to-date!\n",
      "2025-04-24 23:49:33 INFO: Checking for updates to resources.json in case models have been updated.  Note: this behavior can be turned off with download_method=None or download_method=DownloadMethod.REUSE_RESOURCES\n"
     ]
    },
    {
     "name": "stderr",
     "output_type": "stream",
     "text": [
      "Downloading https://raw.githubusercontent.com/stanfordnlp/stanza-resources/main/resources_1.10.0.json: 426kB [00:00, 6.75MB/s]                    \n",
      "2025-04-24 23:49:33 INFO: Downloaded file to C:\\Users\\pc\\stanza_resources\\resources.json\n",
      "2025-04-24 23:49:34 INFO: Loading these models for language: fr (French):\n",
      "=================================\n",
      "| Processor | Package           |\n",
      "---------------------------------\n",
      "| tokenize  | combined          |\n",
      "| mwt       | combined          |\n",
      "| pos       | combined_charlm   |\n",
      "| lemma     | combined_nocharlm |\n",
      "=================================\n",
      "\n",
      "2025-04-24 23:49:34 INFO: Using device: cpu\n",
      "2025-04-24 23:49:34 INFO: Loading: tokenize\n",
      "2025-04-24 23:49:34 INFO: Loading: mwt\n",
      "2025-04-24 23:49:34 INFO: Loading: pos\n",
      "2025-04-24 23:49:36 INFO: Loading: lemma\n",
      "2025-04-24 23:49:37 INFO: Done loading processors!\n"
     ]
    },
    {
     "name": "stdout",
     "output_type": "stream",
     "text": [
      " * Serving Flask app '__main__'\n",
      " * Debug mode: on\n"
     ]
    },
    {
     "name": "stderr",
     "output_type": "stream",
     "text": [
      "WARNING: This is a development server. Do not use it in a production deployment. Use a production WSGI server instead.\n",
      " * Running on http://127.0.0.1:8000\n",
      "Press CTRL+C to quit\n",
      " * Restarting with stat\n"
     ]
    },
    {
     "ename": "SystemExit",
     "evalue": "1",
     "output_type": "error",
     "traceback": [
      "An exception has occurred, use %tb to see the full traceback.\n",
      "\u001b[31mSystemExit\u001b[39m\u001b[31m:\u001b[39m 1\n"
     ]
    },
    {
     "name": "stderr",
     "output_type": "stream",
     "text": [
      "c:\\Users\\pc\\Desktop\\Projects\\Python\\Projet2\\venv\\Lib\\site-packages\\IPython\\core\\interactiveshell.py:3675: UserWarning: To exit: use 'exit', 'quit', or Ctrl-D.\n",
      "  warn(\"To exit: use 'exit', 'quit', or Ctrl-D.\", stacklevel=1)\n"
     ]
    }
   ],
   "source": [
    "from flask import Flask, render_template, request, jsonify\n",
    "import pickle\n",
    "import pandas as pd\n",
    "from sklearn.feature_extraction.text import TfidfVectorizer\n",
    "from nltk.corpus import stopwords\n",
    "import nltk\n",
    "import stanza\n",
    "\n",
    "nltk.download(\"stopwords\")\n",
    "\n",
    "stop_words_fr = stopwords.words('french')\n",
    "nlp = stanza.Pipeline(\"fr\", processors=\"tokenize,mwt,pos,lemma\")\n",
    "\n",
    "def normalize(text):\n",
    "    doc = nlp(text)\n",
    "    lemmatized_filtered_text = [word.lemma.lower() for sentence in doc.sentences for word in sentence.words if word.lemma.lower() not in stop_words_fr]\n",
    "    return \" \".join(lemmatized_filtered_text)\n",
    "\n",
    "with open('svm.pkl', 'rb') as file:\n",
    "    svm = pickle.load(file)\n",
    "\n",
    "with open('naivebayes.pkl', 'rb') as file:\n",
    "    nb = pickle.load(file)\n",
    "\n",
    "with open(\"vectorizer.pkl\", \"rb\") as file:\n",
    "    vectorizer= pickle.load(file)\n",
    "\n",
    "app = Flask(__name__)\n",
    "\n",
    "bdd = pd.read_excel(\"BDD_normalisé.xlsx\")\n",
    "\n",
    "\n",
    "def vectorize(text):\n",
    "    text = normalize(text)\n",
    "    vect_text = vectorizer.transform([text])\n",
    "    return vect_text\n",
    "\n",
    "@app.route(\"/\")\n",
    "def index():\n",
    "    return render_template(\"index.html\")\n",
    "\n",
    "@app.route('/predict', methods = ['POST'])\n",
    "def predict():\n",
    "\n",
    "    email_content = request.form.get('email')\n",
    "    model = request.form.get('model')\n",
    "\n",
    "    if not email_content or not model:\n",
    "        return jsonify({'error': 'Email content or model selection is missing'}), 400\n",
    "    \n",
    "    vect_email = vectorize(email_content)\n",
    "\n",
    "    if model == \"svm\":\n",
    "        prediction = svm.predict(vect_email)[0]\n",
    "        pred_result = 'SPAM' if prediction == 1 else 'NOT SPAM'\n",
    "    elif model == \"nb\":\n",
    "        prediction = nb.predict(vect_email)[0]\n",
    "        pred_result = 'SPAM' if prediction == 1 else 'NOT SPAM'\n",
    "\n",
    "    return jsonify({'prediction': pred_result})\n",
    "\n",
    "if __name__ == '__main__':\n",
    "    app.run(host='127.0.0.1', port=8000, debug=True)\n"
   ]
  }
 ],
 "metadata": {
  "kernelspec": {
   "display_name": "venv",
   "language": "python",
   "name": "python3"
  },
  "language_info": {
   "codemirror_mode": {
    "name": "ipython",
    "version": 3
   },
   "file_extension": ".py",
   "mimetype": "text/x-python",
   "name": "python",
   "nbconvert_exporter": "python",
   "pygments_lexer": "ipython3",
   "version": "3.13.2"
  }
 },
 "nbformat": 4,
 "nbformat_minor": 5
}
